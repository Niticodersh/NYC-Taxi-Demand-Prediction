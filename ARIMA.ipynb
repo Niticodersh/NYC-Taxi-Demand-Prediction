{
  "cells": [
    {
      "cell_type": "code",
      "execution_count": null,
      "metadata": {
        "id": "363M4Bi4SLVO"
      },
      "outputs": [],
      "source": [
        "import numpy as np\n",
        "import pandas as pd\n",
        "import matplotlib.pyplot as plt\n",
        "import pickle\n",
        "from sklearn.model_selection import train_test_split\n",
        "from sklearn.metrics import mean_absolute_error\n",
        "from statsmodels.tsa.arima.model import ARIMA\n",
        "from sklearn.ensemble import RandomForestRegressor\n",
        "from tqdm.contrib.itertools import product"
      ]
    },
    {
      "cell_type": "code",
      "execution_count": null,
      "metadata": {
        "id": "7ShNbPdGSLVR"
      },
      "outputs": [],
      "source": [
        "df = pd.read_parquet(\"normalised_data.parquet\")"
      ]
    },
    {
      "cell_type": "code",
      "execution_count": null,
      "metadata": {
        "id": "xcIS_uZGSLVS"
      },
      "outputs": [],
      "source": [
        "df_ = df['number_trips']\n",
        "df_ = df_.rolling(window=24).mean()"
      ]
    },
    {
      "cell_type": "code",
      "execution_count": null,
      "metadata": {
        "id": "lzJYAj7eSLVT"
      },
      "outputs": [],
      "source": [
        "df_ = df_.dropna().reset_index()"
      ]
    },
    {
      "cell_type": "code",
      "execution_count": null,
      "metadata": {
        "id": "lN8JX28JSLVT"
      },
      "outputs": [],
      "source": [
        "df_ = df_.drop(['index'], axis=1)"
      ]
    },
    {
      "cell_type": "code",
      "execution_count": null,
      "metadata": {
        "id": "9h1g1DczSLVT"
      },
      "outputs": [],
      "source": [
        "test = df_[-24*30:]"
      ]
    },
    {
      "cell_type": "code",
      "execution_count": null,
      "metadata": {
        "id": "IjffIh05SLVT"
      },
      "outputs": [],
      "source": [
        "train = df_[:-24*30]"
      ]
    },
    {
      "cell_type": "code",
      "execution_count": null,
      "metadata": {
        "id": "55_ihhWYSLVU"
      },
      "outputs": [],
      "source": [
        "model = ARIMA(train, order=(15,1,1),)"
      ]
    },
    {
      "cell_type": "code",
      "execution_count": null,
      "metadata": {
        "id": "B5lLTC4PSLVU"
      },
      "outputs": [],
      "source": [
        "model_fit = model.fit()"
      ]
    },
    {
      "cell_type": "code",
      "execution_count": null,
      "metadata": {
        "colab": {
          "base_uri": "https://localhost:8080/",
          "height": 740
        },
        "id": "1R2cr5SSSLVU",
        "outputId": "9fc4b732-51af-468e-f7c8-7dd81ccbc254"
      },
      "outputs": [
        {
          "output_type": "execute_result",
          "data": {
            "text/plain": [
              "<class 'statsmodels.iolib.summary.Summary'>\n",
              "\"\"\"\n",
              "                               SARIMAX Results                                \n",
              "==============================================================================\n",
              "Dep. Variable:           number_trips   No. Observations:               112397\n",
              "Model:                ARIMA(15, 1, 1)   Log Likelihood              608243.031\n",
              "Date:                Fri, 12 Apr 2024   AIC                       -1216452.061\n",
              "Time:                        17:42:17   BIC                       -1216288.355\n",
              "Sample:                             0   HQIC                      -1216402.640\n",
              "                             - 112397                                         \n",
              "Covariance Type:                  opg                                         \n",
              "==============================================================================\n",
              "                 coef    std err          z      P>|z|      [0.025      0.975]\n",
              "------------------------------------------------------------------------------\n",
              "ar.L1          0.8826      0.001   1003.537      0.000       0.881       0.884\n",
              "ar.L2          0.1776      0.001    289.532      0.000       0.176       0.179\n",
              "ar.L3         -0.2788      0.002   -123.113      0.000      -0.283      -0.274\n",
              "ar.L4         -0.0205      0.002     -8.338      0.000      -0.025      -0.016\n",
              "ar.L5         -0.0547      0.003    -21.878      0.000      -0.060      -0.050\n",
              "ar.L6          0.0507      0.003     19.969      0.000       0.046       0.056\n",
              "ar.L7          0.0006      0.003      0.201      0.841      -0.005       0.006\n",
              "ar.L8         -0.0689      0.003    -23.730      0.000      -0.075      -0.063\n",
              "ar.L9          0.0359      0.003     12.302      0.000       0.030       0.042\n",
              "ar.L10         0.1258      0.003     46.156      0.000       0.120       0.131\n",
              "ar.L11        -0.0214      0.003     -6.852      0.000      -0.028      -0.015\n",
              "ar.L12        -0.0675      0.003    -21.572      0.000      -0.074      -0.061\n",
              "ar.L13         0.0089      0.003      2.814      0.005       0.003       0.015\n",
              "ar.L14         0.0358      0.003     11.802      0.000       0.030       0.042\n",
              "ar.L15        -0.0154      0.002     -6.704      0.000      -0.020      -0.011\n",
              "ma.L1          0.4585      0.001    632.914      0.000       0.457       0.460\n",
              "sigma2      1.164e-06   1.39e-09    839.392      0.000    1.16e-06    1.17e-06\n",
              "===================================================================================\n",
              "Ljung-Box (L1) (Q):                   0.14   Jarque-Bera (JB):          13416149.09\n",
              "Prob(Q):                              0.71   Prob(JB):                         0.00\n",
              "Heteroskedasticity (H):               0.07   Skew:                            -0.45\n",
              "Prob(H) (two-sided):                  0.00   Kurtosis:                        56.52\n",
              "===================================================================================\n",
              "\n",
              "Warnings:\n",
              "[1] Covariance matrix calculated using the outer product of gradients (complex-step).\n",
              "[2] Covariance matrix is singular or near-singular, with condition number 1.07e+17. Standard errors may be unstable.\n",
              "\"\"\""
            ],
            "text/html": [
              "<table class=\"simpletable\">\n",
              "<caption>SARIMAX Results</caption>\n",
              "<tr>\n",
              "  <th>Dep. Variable:</th>     <td>number_trips</td>   <th>  No. Observations:  </th>    <td>112397</td>   \n",
              "</tr>\n",
              "<tr>\n",
              "  <th>Model:</th>            <td>ARIMA(15, 1, 1)</td> <th>  Log Likelihood     </th>  <td>608243.031</td> \n",
              "</tr>\n",
              "<tr>\n",
              "  <th>Date:</th>            <td>Fri, 12 Apr 2024</td> <th>  AIC                </th> <td>-1216452.061</td>\n",
              "</tr>\n",
              "<tr>\n",
              "  <th>Time:</th>                <td>17:42:17</td>     <th>  BIC                </th> <td>-1216288.355</td>\n",
              "</tr>\n",
              "<tr>\n",
              "  <th>Sample:</th>                  <td>0</td>        <th>  HQIC               </th> <td>-1216402.640</td>\n",
              "</tr>\n",
              "<tr>\n",
              "  <th></th>                     <td> - 112397</td>    <th>                     </th>       <td> </td>     \n",
              "</tr>\n",
              "<tr>\n",
              "  <th>Covariance Type:</th>        <td>opg</td>       <th>                     </th>       <td> </td>     \n",
              "</tr>\n",
              "</table>\n",
              "<table class=\"simpletable\">\n",
              "<tr>\n",
              "     <td></td>       <th>coef</th>     <th>std err</th>      <th>z</th>      <th>P>|z|</th>  <th>[0.025</th>    <th>0.975]</th>  \n",
              "</tr>\n",
              "<tr>\n",
              "  <th>ar.L1</th>  <td>    0.8826</td> <td>    0.001</td> <td> 1003.537</td> <td> 0.000</td> <td>    0.881</td> <td>    0.884</td>\n",
              "</tr>\n",
              "<tr>\n",
              "  <th>ar.L2</th>  <td>    0.1776</td> <td>    0.001</td> <td>  289.532</td> <td> 0.000</td> <td>    0.176</td> <td>    0.179</td>\n",
              "</tr>\n",
              "<tr>\n",
              "  <th>ar.L3</th>  <td>   -0.2788</td> <td>    0.002</td> <td> -123.113</td> <td> 0.000</td> <td>   -0.283</td> <td>   -0.274</td>\n",
              "</tr>\n",
              "<tr>\n",
              "  <th>ar.L4</th>  <td>   -0.0205</td> <td>    0.002</td> <td>   -8.338</td> <td> 0.000</td> <td>   -0.025</td> <td>   -0.016</td>\n",
              "</tr>\n",
              "<tr>\n",
              "  <th>ar.L5</th>  <td>   -0.0547</td> <td>    0.003</td> <td>  -21.878</td> <td> 0.000</td> <td>   -0.060</td> <td>   -0.050</td>\n",
              "</tr>\n",
              "<tr>\n",
              "  <th>ar.L6</th>  <td>    0.0507</td> <td>    0.003</td> <td>   19.969</td> <td> 0.000</td> <td>    0.046</td> <td>    0.056</td>\n",
              "</tr>\n",
              "<tr>\n",
              "  <th>ar.L7</th>  <td>    0.0006</td> <td>    0.003</td> <td>    0.201</td> <td> 0.841</td> <td>   -0.005</td> <td>    0.006</td>\n",
              "</tr>\n",
              "<tr>\n",
              "  <th>ar.L8</th>  <td>   -0.0689</td> <td>    0.003</td> <td>  -23.730</td> <td> 0.000</td> <td>   -0.075</td> <td>   -0.063</td>\n",
              "</tr>\n",
              "<tr>\n",
              "  <th>ar.L9</th>  <td>    0.0359</td> <td>    0.003</td> <td>   12.302</td> <td> 0.000</td> <td>    0.030</td> <td>    0.042</td>\n",
              "</tr>\n",
              "<tr>\n",
              "  <th>ar.L10</th> <td>    0.1258</td> <td>    0.003</td> <td>   46.156</td> <td> 0.000</td> <td>    0.120</td> <td>    0.131</td>\n",
              "</tr>\n",
              "<tr>\n",
              "  <th>ar.L11</th> <td>   -0.0214</td> <td>    0.003</td> <td>   -6.852</td> <td> 0.000</td> <td>   -0.028</td> <td>   -0.015</td>\n",
              "</tr>\n",
              "<tr>\n",
              "  <th>ar.L12</th> <td>   -0.0675</td> <td>    0.003</td> <td>  -21.572</td> <td> 0.000</td> <td>   -0.074</td> <td>   -0.061</td>\n",
              "</tr>\n",
              "<tr>\n",
              "  <th>ar.L13</th> <td>    0.0089</td> <td>    0.003</td> <td>    2.814</td> <td> 0.005</td> <td>    0.003</td> <td>    0.015</td>\n",
              "</tr>\n",
              "<tr>\n",
              "  <th>ar.L14</th> <td>    0.0358</td> <td>    0.003</td> <td>   11.802</td> <td> 0.000</td> <td>    0.030</td> <td>    0.042</td>\n",
              "</tr>\n",
              "<tr>\n",
              "  <th>ar.L15</th> <td>   -0.0154</td> <td>    0.002</td> <td>   -6.704</td> <td> 0.000</td> <td>   -0.020</td> <td>   -0.011</td>\n",
              "</tr>\n",
              "<tr>\n",
              "  <th>ma.L1</th>  <td>    0.4585</td> <td>    0.001</td> <td>  632.914</td> <td> 0.000</td> <td>    0.457</td> <td>    0.460</td>\n",
              "</tr>\n",
              "<tr>\n",
              "  <th>sigma2</th> <td> 1.164e-06</td> <td> 1.39e-09</td> <td>  839.392</td> <td> 0.000</td> <td> 1.16e-06</td> <td> 1.17e-06</td>\n",
              "</tr>\n",
              "</table>\n",
              "<table class=\"simpletable\">\n",
              "<tr>\n",
              "  <th>Ljung-Box (L1) (Q):</th>     <td>0.14</td> <th>  Jarque-Bera (JB):  </th> <td>13416149.09</td>\n",
              "</tr>\n",
              "<tr>\n",
              "  <th>Prob(Q):</th>                <td>0.71</td> <th>  Prob(JB):          </th>    <td>0.00</td>    \n",
              "</tr>\n",
              "<tr>\n",
              "  <th>Heteroskedasticity (H):</th> <td>0.07</td> <th>  Skew:              </th>    <td>-0.45</td>   \n",
              "</tr>\n",
              "<tr>\n",
              "  <th>Prob(H) (two-sided):</th>    <td>0.00</td> <th>  Kurtosis:          </th>    <td>56.52</td>   \n",
              "</tr>\n",
              "</table><br/><br/>Warnings:<br/>[1] Covariance matrix calculated using the outer product of gradients (complex-step).<br/>[2] Covariance matrix is singular or near-singular, with condition number 1.07e+17. Standard errors may be unstable."
            ],
            "text/latex": "\\begin{center}\n\\begin{tabular}{lclc}\n\\toprule\n\\textbf{Dep. Variable:}          &  number\\_trips   & \\textbf{  No. Observations:  } &    112397     \\\\\n\\textbf{Model:}                  & ARIMA(15, 1, 1)  & \\textbf{  Log Likelihood     } &  608243.031   \\\\\n\\textbf{Date:}                   & Fri, 12 Apr 2024 & \\textbf{  AIC                } & -1216452.061  \\\\\n\\textbf{Time:}                   &     17:42:17     & \\textbf{  BIC                } & -1216288.355  \\\\\n\\textbf{Sample:}                 &        0         & \\textbf{  HQIC               } & -1216402.640  \\\\\n\\textbf{}                        &     - 112397     & \\textbf{                     } &               \\\\\n\\textbf{Covariance Type:}        &       opg        & \\textbf{                     } &               \\\\\n\\bottomrule\n\\end{tabular}\n\\begin{tabular}{lcccccc}\n                & \\textbf{coef} & \\textbf{std err} & \\textbf{z} & \\textbf{P$> |$z$|$} & \\textbf{[0.025} & \\textbf{0.975]}  \\\\\n\\midrule\n\\textbf{ar.L1}  &       0.8826  &        0.001     &  1003.537  &         0.000        &        0.881    &        0.884     \\\\\n\\textbf{ar.L2}  &       0.1776  &        0.001     &   289.532  &         0.000        &        0.176    &        0.179     \\\\\n\\textbf{ar.L3}  &      -0.2788  &        0.002     &  -123.113  &         0.000        &       -0.283    &       -0.274     \\\\\n\\textbf{ar.L4}  &      -0.0205  &        0.002     &    -8.338  &         0.000        &       -0.025    &       -0.016     \\\\\n\\textbf{ar.L5}  &      -0.0547  &        0.003     &   -21.878  &         0.000        &       -0.060    &       -0.050     \\\\\n\\textbf{ar.L6}  &       0.0507  &        0.003     &    19.969  &         0.000        &        0.046    &        0.056     \\\\\n\\textbf{ar.L7}  &       0.0006  &        0.003     &     0.201  &         0.841        &       -0.005    &        0.006     \\\\\n\\textbf{ar.L8}  &      -0.0689  &        0.003     &   -23.730  &         0.000        &       -0.075    &       -0.063     \\\\\n\\textbf{ar.L9}  &       0.0359  &        0.003     &    12.302  &         0.000        &        0.030    &        0.042     \\\\\n\\textbf{ar.L10} &       0.1258  &        0.003     &    46.156  &         0.000        &        0.120    &        0.131     \\\\\n\\textbf{ar.L11} &      -0.0214  &        0.003     &    -6.852  &         0.000        &       -0.028    &       -0.015     \\\\\n\\textbf{ar.L12} &      -0.0675  &        0.003     &   -21.572  &         0.000        &       -0.074    &       -0.061     \\\\\n\\textbf{ar.L13} &       0.0089  &        0.003     &     2.814  &         0.005        &        0.003    &        0.015     \\\\\n\\textbf{ar.L14} &       0.0358  &        0.003     &    11.802  &         0.000        &        0.030    &        0.042     \\\\\n\\textbf{ar.L15} &      -0.0154  &        0.002     &    -6.704  &         0.000        &       -0.020    &       -0.011     \\\\\n\\textbf{ma.L1}  &       0.4585  &        0.001     &   632.914  &         0.000        &        0.457    &        0.460     \\\\\n\\textbf{sigma2} &    1.164e-06  &     1.39e-09     &   839.392  &         0.000        &     1.16e-06    &     1.17e-06     \\\\\n\\bottomrule\n\\end{tabular}\n\\begin{tabular}{lclc}\n\\textbf{Ljung-Box (L1) (Q):}     & 0.14 & \\textbf{  Jarque-Bera (JB):  } & 13416149.09  \\\\\n\\textbf{Prob(Q):}                & 0.71 & \\textbf{  Prob(JB):          } &     0.00     \\\\\n\\textbf{Heteroskedasticity (H):} & 0.07 & \\textbf{  Skew:              } &    -0.45     \\\\\n\\textbf{Prob(H) (two-sided):}    & 0.00 & \\textbf{  Kurtosis:          } &    56.52     \\\\\n\\bottomrule\n\\end{tabular}\n%\\caption{SARIMAX Results}\n\\end{center}\n\nWarnings: \\newline\n [1] Covariance matrix calculated using the outer product of gradients (complex-step). \\newline\n [2] Covariance matrix is singular or near-singular, with condition number 1.07e+17. Standard errors may be unstable."
          },
          "metadata": {},
          "execution_count": 10
        }
      ],
      "source": [
        "model_fit.summary()"
      ]
    },
    {
      "cell_type": "code",
      "execution_count": null,
      "metadata": {
        "id": "pQx_I5aLSLVV"
      },
      "outputs": [],
      "source": [
        "pred = model_fit.forecast(steps=24*30)"
      ]
    },
    {
      "cell_type": "code",
      "execution_count": null,
      "metadata": {
        "id": "vK5XR9amSLVV"
      },
      "outputs": [],
      "source": [
        "test_y = test['number_trips']"
      ]
    },
    {
      "cell_type": "code",
      "execution_count": null,
      "metadata": {
        "colab": {
          "base_uri": "https://localhost:8080/"
        },
        "id": "P6pGHOYdSLVV",
        "outputId": "6a4d798f-9643-49dd-b25f-8ab33540aca2"
      },
      "outputs": [
        {
          "output_type": "execute_result",
          "data": {
            "text/plain": [
              "0.01148803271326231"
            ]
          },
          "metadata": {},
          "execution_count": 13
        }
      ],
      "source": [
        "mean_absolute_error(test_y, pred)"
      ]
    },
    {
      "cell_type": "code",
      "execution_count": null,
      "metadata": {
        "id": "9Paqk7RNSLVV"
      },
      "outputs": [],
      "source": [
        "with open('arima_model.pkl', 'wb') as f:\n",
        "    pickle.dump(model_fit, f)"
      ]
    },
    {
      "cell_type": "code",
      "execution_count": null,
      "metadata": {
        "id": "w9u4bIxBSLVV"
      },
      "outputs": [],
      "source": [
        "data_seasonal = np.array(df_)"
      ]
    },
    {
      "cell_type": "code",
      "execution_count": null,
      "metadata": {
        "id": "HdEzUZE-SLVW"
      },
      "outputs": [],
      "source": [
        "data_seasonal_2 = np.array(df['number_trips'][23:])"
      ]
    },
    {
      "cell_type": "code",
      "execution_count": null,
      "metadata": {
        "id": "G3vgFZ2dSLVW"
      },
      "outputs": [],
      "source": [
        "res = np.zeros_like(data_seasonal)"
      ]
    },
    {
      "cell_type": "code",
      "execution_count": null,
      "metadata": {
        "id": "4BhxT6G6SLVW"
      },
      "outputs": [],
      "source": [
        "for i in range(len(data_seasonal)):\n",
        "    res[i] = data_seasonal_2[i] - data_seasonal[i]"
      ]
    },
    {
      "cell_type": "code",
      "execution_count": null,
      "metadata": {
        "id": "dL6Jj_j1SLVW"
      },
      "outputs": [],
      "source": [
        "res = pd.DataFrame(res)"
      ]
    },
    {
      "cell_type": "code",
      "execution_count": null,
      "metadata": {
        "id": "n9_blGwhSLVW"
      },
      "outputs": [],
      "source": [
        "df = df[23:]"
      ]
    },
    {
      "cell_type": "code",
      "execution_count": null,
      "metadata": {
        "id": "ypjCtt8eSLVW"
      },
      "outputs": [],
      "source": [
        "res['time'] = df['time']"
      ]
    },
    {
      "cell_type": "code",
      "execution_count": null,
      "metadata": {
        "id": "ATCH5xCwSLVW"
      },
      "outputs": [],
      "source": [
        "res['month'] = res['time'].dt.month\n",
        "res['day'] = res['time'].dt.day_of_week\n",
        "res['hour'] = res['time'].dt.hour\n",
        "res['date'] = res['time'].dt.day"
      ]
    },
    {
      "cell_type": "code",
      "execution_count": null,
      "metadata": {
        "id": "rQKUe34iSLVW"
      },
      "outputs": [],
      "source": [
        "data = res.drop(['time'], axis=1)"
      ]
    },
    {
      "cell_type": "code",
      "execution_count": null,
      "metadata": {
        "id": "VWdyhiwJSLVX"
      },
      "outputs": [],
      "source": [
        "data.dropna(inplace=True)"
      ]
    },
    {
      "cell_type": "code",
      "execution_count": null,
      "metadata": {
        "id": "q33qIleqSLVX"
      },
      "outputs": [],
      "source": [
        "Y = data[0]\n",
        "X = data.drop([0], axis=1)"
      ]
    },
    {
      "cell_type": "code",
      "execution_count": null,
      "metadata": {
        "id": "T4Zh8WzkSLVX"
      },
      "outputs": [],
      "source": [
        "test_Y = Y[-30*24:]\n",
        "Y = Y[:-30*24]\n",
        "test_X = X[-30*24:]\n",
        "X = X[:-30*24]"
      ]
    },
    {
      "cell_type": "code",
      "execution_count": null,
      "metadata": {
        "id": "b4S1RUYUSLVX"
      },
      "outputs": [],
      "source": [
        "train_X, valid_X, train_y, valid_y = train_test_split(X, Y, test_size=0.2, random_state=42)"
      ]
    },
    {
      "cell_type": "code",
      "execution_count": null,
      "metadata": {
        "colab": {
          "base_uri": "https://localhost:8080/",
          "height": 66,
          "referenced_widgets": [
            "4b278912b6414523b9a7ec9a2cb04b5a",
            "16ac438d92464211becd1897cdae679a",
            "44ca1781167c4c55bbb1fd449119fd9b",
            "62c9ad2fb43e4b46819d6642f184511f",
            "279e83c6865f4c11a6ed076263412d7b",
            "bb1200e0fb09483c9c617ba77fc8989d",
            "1f15d6f6caef4c878157d16efb07d8dd",
            "eae39253db8c4efc9244f7cc648e0552",
            "c3138fb88adb4da085f9060b78a561e2",
            "8064df783adf47e597d9755264c59f61",
            "7cef178fc1774042b61210a72bab4637"
          ]
        },
        "id": "gPFY6jzFSLVX",
        "outputId": "2c277c4e-4635-46fb-bcac-7f634c7e9629"
      },
      "outputs": [
        {
          "output_type": "display_data",
          "data": {
            "text/plain": [
              "  0%|          | 0/360 [00:00<?, ?it/s]"
            ],
            "application/vnd.jupyter.widget-view+json": {
              "version_major": 2,
              "version_minor": 0,
              "model_id": "4b278912b6414523b9a7ec9a2cb04b5a"
            }
          },
          "metadata": {}
        },
        {
          "output_type": "stream",
          "name": "stdout",
          "text": [
            "0.04338665796187407 40 10\n"
          ]
        }
      ],
      "source": [
        "min_loss = np.inf\n",
        "for n, d in product(range(5,101,5), range(2,20)):\n",
        "    clk = RandomForestRegressor(n_estimators=n, max_depth=d).fit(train_X, train_y)\n",
        "    pred_y = clk.predict(valid_X)\n",
        "    if min_loss > mean_absolute_error(valid_y, pred_y):\n",
        "        min_loss = mean_absolute_error(valid_y, pred_y)\n",
        "        best_n = n\n",
        "        best_d = d\n",
        "print(min_loss, best_n, best_d)"
      ]
    },
    {
      "cell_type": "code",
      "execution_count": null,
      "metadata": {
        "id": "wNmdRE8TSLVX"
      },
      "outputs": [],
      "source": [
        "clk = RandomForestRegressor(n_estimators=90, max_depth=10).fit(X, Y)"
      ]
    },
    {
      "cell_type": "code",
      "execution_count": null,
      "metadata": {
        "id": "Qd-DmoU7SLVX"
      },
      "outputs": [],
      "source": [
        "pred_seasonal = clk.predict(test_X)"
      ]
    },
    {
      "cell_type": "code",
      "execution_count": null,
      "metadata": {
        "id": "gSnZiCipSLVY"
      },
      "outputs": [],
      "source": [
        "with open('arima_model.pkl','rb') as f:\n",
        "    model = pickle.load(f)"
      ]
    },
    {
      "cell_type": "code",
      "execution_count": null,
      "metadata": {
        "id": "I5LLbuggSLVY"
      },
      "outputs": [],
      "source": [
        "pred_trend = model.forecast(steps=24*30)"
      ]
    },
    {
      "cell_type": "code",
      "execution_count": null,
      "metadata": {
        "id": "KxRDQWyWSLVY"
      },
      "outputs": [],
      "source": [
        "pred_Y = pred_seasonal+pred_trend"
      ]
    },
    {
      "cell_type": "code",
      "execution_count": null,
      "metadata": {
        "id": "SMaoZubISLVY"
      },
      "outputs": [],
      "source": [
        "test_Y = df[-24*30:]['number_trips']"
      ]
    },
    {
      "cell_type": "code",
      "execution_count": null,
      "metadata": {
        "colab": {
          "base_uri": "https://localhost:8080/"
        },
        "id": "0izruurtSLVY",
        "outputId": "033278e4-2c7e-4e83-aeb6-3e14aa4ad1aa"
      },
      "outputs": [
        {
          "output_type": "stream",
          "name": "stdout",
          "text": [
            "0.04918739380698144\n"
          ]
        }
      ],
      "source": [
        "print(mean_absolute_error(test_Y,pred_Y))"
      ]
    },
    {
      "cell_type": "code",
      "execution_count": null,
      "metadata": {
        "id": "zdJzVtb_SLVY"
      },
      "outputs": [],
      "source": [
        "with open('seasonal_model.pkl','wb') as f:\n",
        "    pickle.dump(clk,f)"
      ]
    },
    {
      "cell_type": "code",
      "execution_count": null,
      "metadata": {
        "id": "t4v40tz7SLVZ"
      },
      "outputs": [],
      "source": [
        "X['month_sin'] = np.sin(X['month'] * (2. * np.pi / 12))\n",
        "X['month_cos'] = np.cos(X['month'] * (2. * np.pi / 12))\n",
        "X['day_sin'] = np.sin(X['day'] * (2. * np.pi / 7))\n",
        "X['day_cos'] = np.cos(X['day'] * (2. * np.pi / 7))\n",
        "X['hour_sin'] = np.sin(X['hour'] * (2. * np.pi / 24))\n",
        "X['hour_cos'] = np.cos(X['hour'] * (2. * np.pi / 24))\n",
        "X['date_sin'] = np.sin(X['date'] * (2. * np.pi / 31))\n",
        "X['date_cos'] = np.cos(X['date'] * (2. * np.pi / 31))\n",
        "test_X['month_sin'] = np.sin(test_X['month'] * (2. * np.pi / 12))\n",
        "test_X['month_cos'] = np.cos(test_X['month'] * (2. * np.pi / 12))\n",
        "test_X['day_sin'] = np.sin(test_X['day'] * (2. * np.pi / 7))\n",
        "test_X['day_cos'] = np.cos(test_X['day'] * (2. * np.pi / 7))\n",
        "test_X['hour_sin'] = np.sin(test_X['hour'] * (2. * np.pi / 24))\n",
        "test_X['hour_cos'] = np.cos(test_X['hour'] * (2. * np.pi / 24))\n",
        "test_X['date_sin'] = np.sin(test_X['date'] * (2. * np.pi / 31))\n",
        "test_X['date_cos'] = np.cos(test_X['date'] * (2. * np.pi / 31))\n",
        "X_ = X.drop(['month', 'day', 'hour', 'date'], axis=1)\n",
        "test_X_ = test_X.drop(['month', 'day', 'hour', 'date'], axis=1)"
      ]
    },
    {
      "cell_type": "code",
      "execution_count": null,
      "metadata": {
        "id": "7NVpWxNaSLVZ"
      },
      "outputs": [],
      "source": [
        "X_['seasonal_residuals'] = Y\n",
        "test_X_['seasonal_residuals'] = test_Y"
      ]
    },
    {
      "cell_type": "code",
      "execution_count": null,
      "metadata": {
        "id": "XL5Mi8AhSLVZ"
      },
      "outputs": [],
      "source": [
        "X_.to_parquet('DL_X.parquet', index=False)\n",
        "test_X_.to_parquet('DL_test_X.parquet', index=False)"
      ]
    }
  ],
  "metadata": {
    "kernelspec": {
      "display_name": "dl",
      "language": "python",
      "name": "python3"
    },
    "language_info": {
      "codemirror_mode": {
        "name": "ipython",
        "version": 3
      },
      "file_extension": ".py",
      "mimetype": "text/x-python",
      "name": "python",
      "nbconvert_exporter": "python",
      "pygments_lexer": "ipython3",
      "version": "3.8.19"
    },
    "colab": {
      "provenance": []
    },
    "widgets": {
      "application/vnd.jupyter.widget-state+json": {
        "4b278912b6414523b9a7ec9a2cb04b5a": {
          "model_module": "@jupyter-widgets/controls",
          "model_name": "HBoxModel",
          "model_module_version": "1.5.0",
          "state": {
            "_dom_classes": [],
            "_model_module": "@jupyter-widgets/controls",
            "_model_module_version": "1.5.0",
            "_model_name": "HBoxModel",
            "_view_count": null,
            "_view_module": "@jupyter-widgets/controls",
            "_view_module_version": "1.5.0",
            "_view_name": "HBoxView",
            "box_style": "",
            "children": [
              "IPY_MODEL_16ac438d92464211becd1897cdae679a",
              "IPY_MODEL_44ca1781167c4c55bbb1fd449119fd9b",
              "IPY_MODEL_62c9ad2fb43e4b46819d6642f184511f"
            ],
            "layout": "IPY_MODEL_279e83c6865f4c11a6ed076263412d7b"
          }
        },
        "16ac438d92464211becd1897cdae679a": {
          "model_module": "@jupyter-widgets/controls",
          "model_name": "HTMLModel",
          "model_module_version": "1.5.0",
          "state": {
            "_dom_classes": [],
            "_model_module": "@jupyter-widgets/controls",
            "_model_module_version": "1.5.0",
            "_model_name": "HTMLModel",
            "_view_count": null,
            "_view_module": "@jupyter-widgets/controls",
            "_view_module_version": "1.5.0",
            "_view_name": "HTMLView",
            "description": "",
            "description_tooltip": null,
            "layout": "IPY_MODEL_bb1200e0fb09483c9c617ba77fc8989d",
            "placeholder": "​",
            "style": "IPY_MODEL_1f15d6f6caef4c878157d16efb07d8dd",
            "value": "100%"
          }
        },
        "44ca1781167c4c55bbb1fd449119fd9b": {
          "model_module": "@jupyter-widgets/controls",
          "model_name": "FloatProgressModel",
          "model_module_version": "1.5.0",
          "state": {
            "_dom_classes": [],
            "_model_module": "@jupyter-widgets/controls",
            "_model_module_version": "1.5.0",
            "_model_name": "FloatProgressModel",
            "_view_count": null,
            "_view_module": "@jupyter-widgets/controls",
            "_view_module_version": "1.5.0",
            "_view_name": "ProgressView",
            "bar_style": "success",
            "description": "",
            "description_tooltip": null,
            "layout": "IPY_MODEL_eae39253db8c4efc9244f7cc648e0552",
            "max": 360,
            "min": 0,
            "orientation": "horizontal",
            "style": "IPY_MODEL_c3138fb88adb4da085f9060b78a561e2",
            "value": 360
          }
        },
        "62c9ad2fb43e4b46819d6642f184511f": {
          "model_module": "@jupyter-widgets/controls",
          "model_name": "HTMLModel",
          "model_module_version": "1.5.0",
          "state": {
            "_dom_classes": [],
            "_model_module": "@jupyter-widgets/controls",
            "_model_module_version": "1.5.0",
            "_model_name": "HTMLModel",
            "_view_count": null,
            "_view_module": "@jupyter-widgets/controls",
            "_view_module_version": "1.5.0",
            "_view_name": "HTMLView",
            "description": "",
            "description_tooltip": null,
            "layout": "IPY_MODEL_8064df783adf47e597d9755264c59f61",
            "placeholder": "​",
            "style": "IPY_MODEL_7cef178fc1774042b61210a72bab4637",
            "value": " 360/360 [28:24&lt;00:00, 13.95s/it]"
          }
        },
        "279e83c6865f4c11a6ed076263412d7b": {
          "model_module": "@jupyter-widgets/base",
          "model_name": "LayoutModel",
          "model_module_version": "1.2.0",
          "state": {
            "_model_module": "@jupyter-widgets/base",
            "_model_module_version": "1.2.0",
            "_model_name": "LayoutModel",
            "_view_count": null,
            "_view_module": "@jupyter-widgets/base",
            "_view_module_version": "1.2.0",
            "_view_name": "LayoutView",
            "align_content": null,
            "align_items": null,
            "align_self": null,
            "border": null,
            "bottom": null,
            "display": null,
            "flex": null,
            "flex_flow": null,
            "grid_area": null,
            "grid_auto_columns": null,
            "grid_auto_flow": null,
            "grid_auto_rows": null,
            "grid_column": null,
            "grid_gap": null,
            "grid_row": null,
            "grid_template_areas": null,
            "grid_template_columns": null,
            "grid_template_rows": null,
            "height": null,
            "justify_content": null,
            "justify_items": null,
            "left": null,
            "margin": null,
            "max_height": null,
            "max_width": null,
            "min_height": null,
            "min_width": null,
            "object_fit": null,
            "object_position": null,
            "order": null,
            "overflow": null,
            "overflow_x": null,
            "overflow_y": null,
            "padding": null,
            "right": null,
            "top": null,
            "visibility": null,
            "width": null
          }
        },
        "bb1200e0fb09483c9c617ba77fc8989d": {
          "model_module": "@jupyter-widgets/base",
          "model_name": "LayoutModel",
          "model_module_version": "1.2.0",
          "state": {
            "_model_module": "@jupyter-widgets/base",
            "_model_module_version": "1.2.0",
            "_model_name": "LayoutModel",
            "_view_count": null,
            "_view_module": "@jupyter-widgets/base",
            "_view_module_version": "1.2.0",
            "_view_name": "LayoutView",
            "align_content": null,
            "align_items": null,
            "align_self": null,
            "border": null,
            "bottom": null,
            "display": null,
            "flex": null,
            "flex_flow": null,
            "grid_area": null,
            "grid_auto_columns": null,
            "grid_auto_flow": null,
            "grid_auto_rows": null,
            "grid_column": null,
            "grid_gap": null,
            "grid_row": null,
            "grid_template_areas": null,
            "grid_template_columns": null,
            "grid_template_rows": null,
            "height": null,
            "justify_content": null,
            "justify_items": null,
            "left": null,
            "margin": null,
            "max_height": null,
            "max_width": null,
            "min_height": null,
            "min_width": null,
            "object_fit": null,
            "object_position": null,
            "order": null,
            "overflow": null,
            "overflow_x": null,
            "overflow_y": null,
            "padding": null,
            "right": null,
            "top": null,
            "visibility": null,
            "width": null
          }
        },
        "1f15d6f6caef4c878157d16efb07d8dd": {
          "model_module": "@jupyter-widgets/controls",
          "model_name": "DescriptionStyleModel",
          "model_module_version": "1.5.0",
          "state": {
            "_model_module": "@jupyter-widgets/controls",
            "_model_module_version": "1.5.0",
            "_model_name": "DescriptionStyleModel",
            "_view_count": null,
            "_view_module": "@jupyter-widgets/base",
            "_view_module_version": "1.2.0",
            "_view_name": "StyleView",
            "description_width": ""
          }
        },
        "eae39253db8c4efc9244f7cc648e0552": {
          "model_module": "@jupyter-widgets/base",
          "model_name": "LayoutModel",
          "model_module_version": "1.2.0",
          "state": {
            "_model_module": "@jupyter-widgets/base",
            "_model_module_version": "1.2.0",
            "_model_name": "LayoutModel",
            "_view_count": null,
            "_view_module": "@jupyter-widgets/base",
            "_view_module_version": "1.2.0",
            "_view_name": "LayoutView",
            "align_content": null,
            "align_items": null,
            "align_self": null,
            "border": null,
            "bottom": null,
            "display": null,
            "flex": null,
            "flex_flow": null,
            "grid_area": null,
            "grid_auto_columns": null,
            "grid_auto_flow": null,
            "grid_auto_rows": null,
            "grid_column": null,
            "grid_gap": null,
            "grid_row": null,
            "grid_template_areas": null,
            "grid_template_columns": null,
            "grid_template_rows": null,
            "height": null,
            "justify_content": null,
            "justify_items": null,
            "left": null,
            "margin": null,
            "max_height": null,
            "max_width": null,
            "min_height": null,
            "min_width": null,
            "object_fit": null,
            "object_position": null,
            "order": null,
            "overflow": null,
            "overflow_x": null,
            "overflow_y": null,
            "padding": null,
            "right": null,
            "top": null,
            "visibility": null,
            "width": null
          }
        },
        "c3138fb88adb4da085f9060b78a561e2": {
          "model_module": "@jupyter-widgets/controls",
          "model_name": "ProgressStyleModel",
          "model_module_version": "1.5.0",
          "state": {
            "_model_module": "@jupyter-widgets/controls",
            "_model_module_version": "1.5.0",
            "_model_name": "ProgressStyleModel",
            "_view_count": null,
            "_view_module": "@jupyter-widgets/base",
            "_view_module_version": "1.2.0",
            "_view_name": "StyleView",
            "bar_color": null,
            "description_width": ""
          }
        },
        "8064df783adf47e597d9755264c59f61": {
          "model_module": "@jupyter-widgets/base",
          "model_name": "LayoutModel",
          "model_module_version": "1.2.0",
          "state": {
            "_model_module": "@jupyter-widgets/base",
            "_model_module_version": "1.2.0",
            "_model_name": "LayoutModel",
            "_view_count": null,
            "_view_module": "@jupyter-widgets/base",
            "_view_module_version": "1.2.0",
            "_view_name": "LayoutView",
            "align_content": null,
            "align_items": null,
            "align_self": null,
            "border": null,
            "bottom": null,
            "display": null,
            "flex": null,
            "flex_flow": null,
            "grid_area": null,
            "grid_auto_columns": null,
            "grid_auto_flow": null,
            "grid_auto_rows": null,
            "grid_column": null,
            "grid_gap": null,
            "grid_row": null,
            "grid_template_areas": null,
            "grid_template_columns": null,
            "grid_template_rows": null,
            "height": null,
            "justify_content": null,
            "justify_items": null,
            "left": null,
            "margin": null,
            "max_height": null,
            "max_width": null,
            "min_height": null,
            "min_width": null,
            "object_fit": null,
            "object_position": null,
            "order": null,
            "overflow": null,
            "overflow_x": null,
            "overflow_y": null,
            "padding": null,
            "right": null,
            "top": null,
            "visibility": null,
            "width": null
          }
        },
        "7cef178fc1774042b61210a72bab4637": {
          "model_module": "@jupyter-widgets/controls",
          "model_name": "DescriptionStyleModel",
          "model_module_version": "1.5.0",
          "state": {
            "_model_module": "@jupyter-widgets/controls",
            "_model_module_version": "1.5.0",
            "_model_name": "DescriptionStyleModel",
            "_view_count": null,
            "_view_module": "@jupyter-widgets/base",
            "_view_module_version": "1.2.0",
            "_view_name": "StyleView",
            "description_width": ""
          }
        }
      }
    }
  },
  "nbformat": 4,
  "nbformat_minor": 0
}